{
 "cells": [
  {
   "cell_type": "code",
   "execution_count": 3,
   "metadata": {},
   "outputs": [],
   "source": [
    "from selenium import webdriver\n",
    "from selenium.webdriver.common.keys import Keys\n",
    "\n",
    "import time\n",
    "\n",
    "PATH = '/usr/local/bin/chromedriver'\n",
    "driver = webdriver.Chrome(PATH)\n",
    "\n",
    "\n",
    "driver.get('https://www.google.com')\n",
    "search = driver.find_element_by_name('q')\n",
    "search.send_keys('Phoemela Ballaran')\n",
    "search.send_keys(Keys.RETURN)\n",
    "time.sleep(20)\n",
    "driver.quit()"
   ]
  },
  {
   "cell_type": "code",
   "execution_count": 6,
   "metadata": {},
   "outputs": [],
   "source": [
    "PATH = '/usr/local/bin/chromedriver'\n",
    "driver = webdriver.Chrome(PATH)\n",
    "\n",
    "\n",
    "driver.get('https://www.imdb.com')\n",
    "search = driver.find_element_by_id('suggestion-search')\n",
    "search.send_keys('space')\n",
    "search.send_keys(Keys.RETURN)\n",
    "time.sleep(5)\n",
    "\n",
    "x = driver.page_source\n",
    "\n",
    "driver.quit()"
   ]
  },
  {
   "cell_type": "code",
   "execution_count": 7,
   "metadata": {},
   "outputs": [],
   "source": [
    "from bs4 import BeautifulSoup\n",
    "\n",
    "soup = BeautifulSoup(x, 'lxml')\n",
    "contents = soup.find(\"table\", class_='findList')"
   ]
  },
  {
   "cell_type": "code",
   "execution_count": 11,
   "metadata": {},
   "outputs": [
    {
     "data": {
      "text/plain": [
       "<table class=\"findList\">\n",
       "<tbody><tr class=\"findResult odd\"> <td class=\"primary_photo\"> <a href=\"/title/tt0112173/?ref_=fn_al_tt_1\"><img src=\"https://m.media-amazon.com/images/M/MV5BMTI3MTMxNTg2M15BMl5BanBnXkFtZTcwMjkzMTIzMQ@@._V1_UY44_CR0,0,32,44_AL_.jpg\"/></a> </td> <td class=\"result_text\"> <a href=\"/title/tt0112173/?ref_=fn_al_tt_1\">Space: Above and Beyond</a> (1995) (TV Series) </td> </tr><tr class=\"findResult even\"> <td class=\"primary_photo\"> <a href=\"/title/tt8710832/?ref_=fn_al_tt_2\"><img src=\"https://m.media-amazon.com/images/M/MV5BYTEyNWIzMDktNDk0Ny00MmVjLTg1MDYtMzkyYjFhODEyZDliXkEyXkFqcGdeQXVyMjIzMzk2MTk@._V1_UX32_CR0,0,32,44_AL_.jpg\"/></a> </td> <td class=\"result_text\"> <a href=\"/title/tt8710832/?ref_=fn_al_tt_2\">Space</a> (I) (2020) </td> </tr><tr class=\"findResult odd\"> <td class=\"primary_photo\"> <a href=\"/title/tt0088611/?ref_=fn_al_tt_3\"><img src=\"https://m.media-amazon.com/images/M/MV5BZDllNzRmODAtYzJlNS00MzliLWE5ZTAtZDc5ZDRiMWQ5ZjEwXkEyXkFqcGdeQXVyNDExOTIyNzU@._V1_UX32_CR0,0,32,44_AL_.jpg\"/></a> </td> <td class=\"result_text\"> <a href=\"/title/tt0088611/?ref_=fn_al_tt_3\">Space</a> (1985) (TV Mini-Series) </td> </tr></tbody></table>"
      ]
     },
     "execution_count": 11,
     "metadata": {},
     "output_type": "execute_result"
    }
   ],
   "source": [
    "contents"
   ]
  },
  {
   "cell_type": "code",
   "execution_count": 16,
   "metadata": {},
   "outputs": [],
   "source": [
    "title_link = contents.find_all(\"a\")"
   ]
  },
  {
   "cell_type": "code",
   "execution_count": 17,
   "metadata": {},
   "outputs": [
    {
     "data": {
      "text/plain": [
       "[<a href=\"/title/tt0112173/?ref_=fn_al_tt_1\"><img src=\"https://m.media-amazon.com/images/M/MV5BMTI3MTMxNTg2M15BMl5BanBnXkFtZTcwMjkzMTIzMQ@@._V1_UY44_CR0,0,32,44_AL_.jpg\"/></a>,\n",
       " <a href=\"/title/tt0112173/?ref_=fn_al_tt_1\">Space: Above and Beyond</a>,\n",
       " <a href=\"/title/tt8710832/?ref_=fn_al_tt_2\"><img src=\"https://m.media-amazon.com/images/M/MV5BYTEyNWIzMDktNDk0Ny00MmVjLTg1MDYtMzkyYjFhODEyZDliXkEyXkFqcGdeQXVyMjIzMzk2MTk@._V1_UX32_CR0,0,32,44_AL_.jpg\"/></a>,\n",
       " <a href=\"/title/tt8710832/?ref_=fn_al_tt_2\">Space</a>,\n",
       " <a href=\"/title/tt0088611/?ref_=fn_al_tt_3\"><img src=\"https://m.media-amazon.com/images/M/MV5BZDllNzRmODAtYzJlNS00MzliLWE5ZTAtZDc5ZDRiMWQ5ZjEwXkEyXkFqcGdeQXVyNDExOTIyNzU@._V1_UX32_CR0,0,32,44_AL_.jpg\"/></a>,\n",
       " <a href=\"/title/tt0088611/?ref_=fn_al_tt_3\">Space</a>]"
      ]
     },
     "execution_count": 17,
     "metadata": {},
     "output_type": "execute_result"
    }
   ],
   "source": [
    "title_link"
   ]
  },
  {
   "cell_type": "code",
   "execution_count": 18,
   "metadata": {},
   "outputs": [],
   "source": [
    "x = []\n",
    "\n",
    "for i in title_link:\n",
    "    x.append(i.get_text())"
   ]
  },
  {
   "cell_type": "code",
   "execution_count": 19,
   "metadata": {},
   "outputs": [
    {
     "data": {
      "text/plain": [
       "['', 'Space: Above and Beyond', '', 'Space', '', 'Space']"
      ]
     },
     "execution_count": 19,
     "metadata": {},
     "output_type": "execute_result"
    }
   ],
   "source": [
    "x"
   ]
  },
  {
   "cell_type": "code",
   "execution_count": null,
   "metadata": {},
   "outputs": [],
   "source": [
    "titles = list(filter(None,))"
   ]
  }
 ],
 "metadata": {
  "kernelspec": {
   "display_name": "Python 3",
   "language": "python",
   "name": "python3"
  },
  "language_info": {
   "codemirror_mode": {
    "name": "ipython",
    "version": 3
   },
   "file_extension": ".py",
   "mimetype": "text/x-python",
   "name": "python",
   "nbconvert_exporter": "python",
   "pygments_lexer": "ipython3",
   "version": "3.8.5"
  }
 },
 "nbformat": 4,
 "nbformat_minor": 4
}
