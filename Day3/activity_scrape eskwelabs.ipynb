{
 "cells": [
  {
   "cell_type": "code",
   "execution_count": 6,
   "metadata": {},
   "outputs": [],
   "source": [
    "from selenium import webdriver\n",
    "from selenium.webdriver.common.keys import Keys\n",
    "\n",
    "import time\n",
    "\n",
    "PATH = '/usr/local/bin/chromedriver'\n",
    "driver = webdriver.Chrome(PATH)\n",
    "\n",
    "\n",
    "driver.get('https://www.google.com')\n",
    "search = driver.find_element_by_name('q')\n",
    "search.send_keys('Eskwelabs')\n",
    "search.send_keys(Keys.RETURN)\n",
    "link = driver.find_element_by_xpath('//*[@id=\"rso\"]/div/div[1]/div/div/div[1]/a/div/cite')\n",
    "link.click()\n",
    "\n",
    "page = driver.page_source\n",
    "\n",
    "time.sleep(5)\n",
    "driver.quit()"
   ]
  },
  {
   "cell_type": "code",
   "execution_count": 13,
   "metadata": {},
   "outputs": [],
   "source": [
    "from bs4 import BeautifulSoup\n",
    "\n",
    "soup = BeautifulSoup(page, 'lxml')\n",
    "eira_blockquote = soup.find_all(\"blockquote\")[1] #find_all returns a list so choose the element with Eira's quote"
   ]
  },
  {
   "cell_type": "code",
   "execution_count": 17,
   "metadata": {},
   "outputs": [],
   "source": [
    "quote = eira_blockquote.find(\"p\").get_text() #\"p\" tag contains the quote, get_text removes the other elements like <strong> and <em>"
   ]
  },
  {
   "cell_type": "code",
   "execution_count": 18,
   "metadata": {},
   "outputs": [
    {
     "data": {
      "text/plain": [
       "'Through Eskwelabs, I developed a data-driven mindset and a greater passion for learning.'"
      ]
     },
     "execution_count": 18,
     "metadata": {},
     "output_type": "execute_result"
    }
   ],
   "source": [
    "quote"
   ]
  }
 ],
 "metadata": {
  "kernelspec": {
   "display_name": "Python 3",
   "language": "python",
   "name": "python3"
  },
  "language_info": {
   "codemirror_mode": {
    "name": "ipython",
    "version": 3
   },
   "file_extension": ".py",
   "mimetype": "text/x-python",
   "name": "python",
   "nbconvert_exporter": "python",
   "pygments_lexer": "ipython3",
   "version": "3.8.5"
  }
 },
 "nbformat": 4,
 "nbformat_minor": 4
}
